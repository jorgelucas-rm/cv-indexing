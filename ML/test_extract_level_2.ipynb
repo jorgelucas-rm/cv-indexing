{
 "cells": [
  {
   "cell_type": "code",
   "execution_count": 1,
   "metadata": {},
   "outputs": [
    {
     "name": "stderr",
     "output_type": "stream",
     "text": [
      "/home/danielgomes/Desktop/dev/cv-indexing/.venv/lib/python3.10/site-packages/tqdm/auto.py:21: TqdmWarning: IProgress not found. Please update jupyter and ipywidgets. See https://ipywidgets.readthedocs.io/en/stable/user_install.html\n",
      "  from .autonotebook import tqdm as notebook_tqdm\n",
      "Fetching 4 files: 100%|██████████| 4/4 [00:00<00:00, 16304.39it/s]\n",
      "/home/danielgomes/Desktop/dev/cv-indexing/.venv/lib/python3.10/site-packages/transformers/convert_slow_tokenizer.py:562: UserWarning: The sentencepiece tokenizer that you are converting to a fast tokenizer uses the byte fallback option which is not implemented in the fast tokenizers. In practice this means that the fast version of the tokenizer can produce unknown tokens whereas the sentencepiece version would have converted these unknown tokens into a sequence of byte tokens matching the original piece of text.\n",
      "  warnings.warn(\n"
     ]
    }
   ],
   "source": [
    "from gliner import GLiNER\n",
    "model = GLiNER.from_pretrained(\"urchade/gliner_base\")"
   ]
  },
  {
   "cell_type": "code",
   "execution_count": 2,
   "metadata": {},
   "outputs": [],
   "source": [
    "text = ['information technology coordinator',\n",
    " 'professional summary ',\n",
    " 'highly talented and accomplished paralegal with extensive experience in investigative and online legal research',\n",
    " 'more than 5 years of experience',\n",
    " 'working in the legal field',\n",
    " 'knowledgeable in all aspects of case preparation and representation previous court experience familiar with filings',\n",
    " 'petitions case management and interviewing',\n",
    " 'excellent research documentation reporting abilities outstanding communication and presentation',\n",
    " 'skills',\n",
    " 'predisposed to procedural and methodological approaches to problem solving and analysis',\n",
    " 'detail oriented with a demonstrated',\n",
    " 'commitment to excellent customer service ',\n",
    " 'core qualifications ',\n",
    " 'lexisnexis westlaw concordance casemap',\n",
    " 'knowledge of local state and federal laws',\n",
    " 'principles and practices of legal communication',\n",
    " 'court proceduresprocesses ',\n",
    " 'resultsoriented',\n",
    " 'clientfocused',\n",
    " 'interview techniques and methods',\n",
    " 'word excel powerpoint access project ',\n",
    " 'experience',\n",
    " 'information technology coordinator  012014  current company name  city  state ',\n",
    " 'worked across all levels of the organization to support the corporate information officer cio and the senior leadership team',\n",
    " 'enable the cio and senior leadership team to effectively and efficiently execute their duties by continuously managing maintaining appointment calendars and documentation of forecasted project plansmilestones communications derived from their initiatives',\n",
    " 'commitments and ongoing management functions single point of contact spoc for inhouse information technology operations assessment maintain client files vendor files and deal sensitively with confidential material and general office management support business resiliency management program brm in developing key principles and scope documentation support it communication and employee engagement by working crossfunctionally to develop and organize it town halls and other',\n",
    " 'functions gather and analyze data to understand and assist in improving it business communication and functions collect compile and interpret data as it relates to business critical vulnerabilities selfdirected detail oriented outstanding organizational skills coupled with excellent task and time management skills ',\n",
    " 'executive assistant contractor  012013  092013 company name  city  state',\n",
    " '',\n",
    " 'key executive support person in the management coordination and implementation of the operations of the quality department responsible for interacting on behalf of several vice presidents with all elements of the department and to foster productive relationships',\n",
    " 'among key executives organized managed and executed initial and followup communications travel facilities setup programs and program participants oversaw the management of the vice presidents calendar and relieved him of managerial detail including but not limited to scheduling',\n",
    " 'rescheduling and prioritizing as needed onboarded and separate employees governed computer hardware software computer peripheral equipment procurement and ensured set up of employee hardware ',\n",
    " 'legal administrative supervisor  102006  072012 company name  city  state ',\n",
    " 'coordinated the support function in the law school division chicago office supervised temporary staff performed administrative personnel related activities monitored workflow supervised and oriented new',\n",
    " 'employees and ensured efficiency of work processes supported the vice president of sales director of sales and several attorneys within the law school organization and assisted with projects',\n",
    " 'as needed established work priorities supervised motivated and evaluated the work of assigned staff prepared reports regarding workflow management and other business operations within the office performed timekeeping other administrative functions and coordinated the completion of timely performance appraisals conducted research organized data generated reports prepared correspondence documents and presentations for attorneys and senior',\n",
    " 'management responsible for coordination of all client meetings developed a tracking system to ensure timely and appropriate scheduling created',\n",
    " 'meeting materials including spreadsheets handouts and executive summaries and ensured successful followup on action items resulting from',\n",
    " 'meetings ',\n",
    " 'education',\n",
    " '2014 college of lake county  city  state cftc  computer forensics technician certification computer forensics',\n",
    " '2014 college of lake county  city  state cfac  computer forensics analyst certification computer forensics',\n",
    " '2013 college of lake county  city  state certificate of completion paralegal studies legal ',\n",
    " 'approved by the american bar association ',\n",
    " '2008 strayer university  state bachelor of science computer information systems infosec',\n",
    " '',\n",
    " 'computer information systems emphasis in infosec',\n",
    " ' \\x0c',\n",
    " 'computer information systems emphasis in infosec',\n",
    " '',\n",
    " 'graduated summa cum laude ',\n",
    " 'certificate of completion cisco studies ',\n",
    " 'encase and ftk certification candiate ',\n",
    " 'training for encase and ftk certification  2016 ',\n",
    " 'professional affiliations ',\n",
    " 'training for cisco ccna ccnasecurity ccnavoice microtrain lombard il  2012  2013 ',\n",
    " 'member illinois paralegal association  member national federation of paralegal association ',\n",
    " 'member cook county bar association member lake county bar association ',\n",
    " 'skills ',\n",
    " 'executive and legal support business analysis strong communication skills business operations detail oriented documentation and time',\n",
    " 'management information technology and technical support leadership legal terminology managerial experience meeting organizational',\n",
    " 'skills advanced problemsolving skills paralegal  performance appraisals personnel presentations processes procurement project',\n",
    " 'management lrw westlaw lexisnexis  \\x0c']\n",
    "\n"
   ]
  },
  {
   "cell_type": "code",
   "execution_count": 3,
   "metadata": {},
   "outputs": [],
   "source": [
    "labels = [\n",
    "    \"EXPERIENCE\", \n",
    "    \"ROLE\", \n",
    "    \"JOB_POSITION\", \n",
    "    \"SKILL\", \n",
    "    \"QUALIFICATION\", \n",
    "    \"ACTIVITIY\", \n",
    "    \"FUNCTION\", \n",
    "    \"COMPANY\", \n",
    "    \"CLIENT\", \n",
    "    \"DATE\", \n",
    "    \"COLLEGE\", \n",
    "    \"COURSE\"\n",
    "]"
   ]
  },
  {
   "cell_type": "code",
   "execution_count": 4,
   "metadata": {},
   "outputs": [
    {
     "name": "stderr",
     "output_type": "stream",
     "text": [
      "Asking to truncate to max_length but no maximum length is provided and the model has no predefined maximum length. Default to no truncation.\n",
      "/home/danielgomes/Desktop/dev/cv-indexing/.venv/lib/python3.10/site-packages/torch/cuda/__init__.py:619: UserWarning: Can't initialize NVML\n",
      "  warnings.warn(\"Can't initialize NVML\")\n"
     ]
    },
    {
     "name": "stdout",
     "output_type": "stream",
     "text": [
      "========== RESULTS ==========\n",
      "{'information technology coordinator  012014  current company name  city  state ': {'information technology coordinator': 'JOB_POSITION', '012014': 'DATE'}, 'training for cisco ccna ccnasecurity ccnavoice microtrain lombard il  2012  2013 ': {'2012': 'DATE', '2013': 'DATE'}}\n",
      "information technology coordinator  012014  current company name  city  state  : {'information technology coordinator': 'JOB_POSITION', '012014': 'DATE'}\n",
      "training for cisco ccna ccnasecurity ccnavoice microtrain lombard il  2012  2013  : {'2012': 'DATE', '2013': 'DATE'}\n"
     ]
    }
   ],
   "source": [
    "text = ['information technology coordinator  012014  current company name  city  state ', 'member cook county bar association member lake county bar association ', 'training for cisco ccna ccnasecurity ccnavoice microtrain lombard il  2012  2013 ']\n",
    "target = [\"JOB_POSITION\", \"DATE\"]\n",
    "skip = [\"EXPERIENCE\", \"ROLE\", \"SKILL\", \"QUALIFICATION\", \"ACTIVITIY\", \"FUNCTION\", \"COMPANY\", \"CLIENT\", \"COLLEGE\", \"COURSE\"]\n",
    "\n",
    "experience = {}\n",
    "for i in text:\n",
    "    entities = model.predict_entities(i, labels, threshold=0.5)\n",
    "    temp = {}\n",
    "    tempu = []\n",
    "    for entity in entities:\n",
    "        if entity[\"label\"] in target:\n",
    "\n",
    "        # if entity[\"label\"] not in temp.values():\n",
    "            # temp.append(entity[\"label\"])\n",
    "            tempu = [entity[\"text\"], entity[\"label\"]]\n",
    "            temp[entity[\"text\"]] = entity[\"label\"]\n",
    "        if len(temp) > 1:\n",
    "            experience[i] = temp\n",
    "        \n",
    "    \n",
    "print(f\"========== RESULTS ==========\")\n",
    "print(experience)\n",
    "\n",
    "for k, v in experience.items():\n",
    "    print(f'{k} : {v}')"
   ]
  },
  {
   "cell_type": "code",
   "execution_count": 5,
   "metadata": {},
   "outputs": [
    {
     "name": "stdout",
     "output_type": "stream",
     "text": [
      "========== RESULTS ==========\n",
      "{'information technology coordinator  012014  current company name  city  state ': {'information technology coordinator': 'JOB_POSITION', '012014': 'DATE', 'company': 'COMPANY'}}\n",
      "information technology coordinator  012014  current company name  city  state  : {'information technology coordinator': 'JOB_POSITION', '012014': 'DATE', 'company': 'COMPANY'}\n"
     ]
    }
   ],
   "source": [
    "\n",
    "target = (\"JOB_POSITION\", \"DATE\")\n",
    "skip = [\"EXPERIENCE\", \"ROLE\", \"SKILL\", \"QUALIFICATION\", \"ACTIVITIY\", \"FUNCTION\", \"COMPANY\", \"CLIENT\", \"COLLEGE\", \"COURSE\"]\n",
    "\n",
    "experience = {}\n",
    "for i in text:\n",
    "    entities = model.predict_entities(i, labels, threshold=0.5)\n",
    "\n",
    "    temp = {}\n",
    "    tempu = []\n",
    "    for entity in entities:\n",
    "        # if entity[\"label\"] not in temp.values():\n",
    "            # temp.append(entity[\"label\"])\n",
    "        tempu = [entity[\"text\"], entity[\"label\"]]\n",
    "        temp[entity[\"text\"]] = entity[\"label\"]\n",
    "        if \"JOB_POSITION\" in temp.values() and \"DATE\" in temp.values(): # and len(temp) == 2:\n",
    "            experience[i] = temp\n",
    "    \n",
    "print(f\"========== RESULTS ==========\")\n",
    "print(experience)\n",
    "\n",
    "for k, v in experience.items():\n",
    "    print(f'{k} : {v}')\n",
    "\n",
    "# entities = model.predict_entities(text, labels, threshold=0.5)\n",
    "\n",
    "# for entity in entities:\n",
    "#     print(entity[\"text\"], \"=>\", entity[\"label\"])"
   ]
  },
  {
   "cell_type": "code",
   "execution_count": 6,
   "metadata": {},
   "outputs": [
    {
     "data": {
      "text/plain": [
       "dict_values(['João', 35, 'Engenheiro', 'São Paulo'])"
      ]
     },
     "execution_count": 6,
     "metadata": {},
     "output_type": "execute_result"
    }
   ],
   "source": [
    "pessoa = {\n",
    "    \"nome\": \"João\",\n",
    "    \"idade\": 35,\n",
    "    \"profissao\": \"Engenheiro\",\n",
    "    \"cidade\": \"São Paulo\"\n",
    "}\n",
    "\n",
    "skip = \"Engenheiro\"\n",
    "\n",
    "pessoa.values()"
   ]
  },
  {
   "cell_type": "code",
   "execution_count": null,
   "metadata": {},
   "outputs": [],
   "source": []
  }
 ],
 "metadata": {
  "kernelspec": {
   "display_name": ".venv",
   "language": "python",
   "name": "python3"
  },
  "language_info": {
   "codemirror_mode": {
    "name": "ipython",
    "version": 3
   },
   "file_extension": ".py",
   "mimetype": "text/x-python",
   "name": "python",
   "nbconvert_exporter": "python",
   "pygments_lexer": "ipython3",
   "version": "3.10.12"
  }
 },
 "nbformat": 4,
 "nbformat_minor": 2
}
