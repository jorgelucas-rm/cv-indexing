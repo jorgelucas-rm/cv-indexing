{
 "cells": [
  {
   "cell_type": "code",
   "execution_count": 1,
   "metadata": {},
   "outputs": [],
   "source": [
    "import csv\n",
    "import os"
   ]
  },
  {
   "cell_type": "code",
   "execution_count": 2,
   "metadata": {},
   "outputs": [
    {
     "name": "stderr",
     "output_type": "stream",
     "text": [
      "/home/jorgelucas-rm/projects/cv-indexing/.venv/lib/python3.10/site-packages/torch/cuda/__init__.py:619: UserWarning: Can't initialize NVML\n",
      "  warnings.warn(\"Can't initialize NVML\")\n"
     ]
    }
   ],
   "source": [
    "import spacy\n",
    "from spacy.lang.en import stop_words\n",
    "from spacypdfreader.spacypdfreader import pdf_reader\n",
    "from string import punctuation\n",
    "import re\n",
    "\n",
    "stopWords = stop_words.STOP_WORDS\n",
    "punctuations = list(punctuation)\n",
    "nlp = spacy.load(\"en_core_web_sm\")\n",
    "\n",
    "def CleanText(pdf):\n",
    "    text = pdf_reader(pdf, nlp)\n",
    "    text = especialCleaning(text)\n",
    "    text = lemmatization(text)\n",
    "    text = stopwordCleaning(text)\n",
    "    text = toString(text)\n",
    "    return text    \n",
    "\n",
    "def especialCleaning(text):\n",
    "    text  = re.sub(r'[^a-zA-Z0-9\\s]', '', text.text)\n",
    "    return text\n",
    "\n",
    "def lemmatization(text):\n",
    "    text = nlp(text)\n",
    "    text = [ word.lemma_.lower().strip() if word.lemma_ != \"-PRON-\" else word.lower for word in text ]\n",
    "    return text\n",
    "\n",
    "def stopwordCleaning(text):\n",
    "    text = [ word for word in text if word not in stopWords and word not in punctuations ]\n",
    "    return text\n",
    "\n",
    "\n",
    "def toString(text):\n",
    "    text = ' '.join(text)\n",
    "    text = \" \".join(text.split())\n",
    "    return text"
   ]
  },
  {
   "cell_type": "code",
   "execution_count": 9,
   "metadata": {},
   "outputs": [],
   "source": [
    "def cv_include(pdf):\n",
    "    cv = CleanText(pdf)\n",
    "    path = os.path.dirname(pdf)\n",
    "    base = os.path.basename(path)\n",
    "    field = base.lower()\n",
    "    with open('teste.csv', 'a', newline='') as file:        \n",
    "        writer = csv.writer(file)\n",
    "        writer.writerow([f'{field}', f'{cv}'])  "
   ]
  },
  {
   "cell_type": "code",
   "execution_count": null,
   "metadata": {},
   "outputs": [],
   "source": []
  }
 ],
 "metadata": {
  "kernelspec": {
   "display_name": ".venv",
   "language": "python",
   "name": "python3"
  },
  "language_info": {
   "codemirror_mode": {
    "name": "ipython",
    "version": 3
   },
   "file_extension": ".py",
   "mimetype": "text/x-python",
   "name": "python",
   "nbconvert_exporter": "python",
   "pygments_lexer": "ipython3",
   "version": "3.10.12"
  }
 },
 "nbformat": 4,
 "nbformat_minor": 2
}
