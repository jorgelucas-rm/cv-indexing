{
 "cells": [
  {
   "cell_type": "code",
   "execution_count": null,
   "metadata": {},
   "outputs": [],
   "source": [
    "from gliner import GLiNER\n",
    "\n",
    "model = GLiNER.from_pretrained(\"urchade/gliner_base\")\n",
    "\n",
    "text = ['INFORMATION TECHNOLOGY COORDINATOR.', 'Professional Summary. .', 'Highly talented and accomplished Paralegal with extensive experience in investigative and online legal research.', 'More than 5 years of experience.', 'working in the legal field.', 'Knowledgeable in all aspects of case preparation and representation, previous court experience, familiar with filings,.', 'petitions, case management, and interviewing.', 'Excellent research, documentation, reporting abilities, outstanding communication and presentation.', 'skills.', 'Predisposed to procedural and methodological approaches to problem solving and analysis.', 'Detail oriented with a demonstrated.', 'commitment to excellent customer service.. .', 'Core Qualifications. .', 'LexisNexis, Westlaw, Concordance, CaseMap.', 'Knowledge of Local, State and Federal laws.', 'Principles and Practices of Legal Communication.', 'Court Procedures/Processes. .', 'Results-oriented.', 'Client-focused.', 'Interview Techniques and Methods.', 'Word, Excel, PowerPoint, Access, Project. .', 'Experience.', 'Information Technology Coordinator , 01/2014 - Current Company Name - City , State. .', 'Worked across all levels of the organization to support the Corporate Information Officer (CIO) and the Senior Leadership Team..', 'Enable the CIO and Senior Leadership Team to effectively and efficiently execute their duties by continuously managing, maintaining. appointment calendars, and documentation of forecasted project plans/milestones, communications derived from their initiatives,.', 'commitments, and ongoing management functions..', 'Single Point of Contact (SPOC) for in-house Information Technology Operations Assessment.. Maintain client files, vendor files and deal sensitively with confidential material and general office management..', 'Support business resiliency management program (BRM) in developing key principles and scope documentation..', 'Support IT communication and employee engagement by working cross-functionally to develop and organize IT Town halls and other.', 'functions..', 'Gather and analyze data to understand and assist in improving IT business communication, and functions..', 'Collect, compile and interpret data as it relates to business critical vulnerabilities..', 'Self-directed, detail oriented, outstanding organizational skills coupled with excellent task and time management skills.. .', 'Executive Assistant, Contractor , 01/2013 - 09/2013 Company Name - City , State. .', 'Key executive support person in the management, coordination, and implementation of the operations of the Quality department;. responsible for interacting on behalf of several Vice Presidents with all elements of the department and to foster productive relationships.', 'among key executives.. Organized, managed, and executed initial and follow-up communications, travel, facilities set-up, programs and program participants..', \"Oversaw the management of the Vice President's calendar and relieved him of managerial detail including, but not limited to, scheduling,.\", 'rescheduling, and prioritizing as needed..', 'On-boarded and separate employees..', 'Governed computer hardware, software, computer peripheral equipment procurement and ensured set up of employee hardware.. .', 'Legal Administrative Supervisor , 10/2006 - 07/2012 Company Name - City , State. .', 'Coordinated the support function in the Law School Division, Chicago Office..', 'Supervised temporary staff, performed administrative personnel related activities, monitored workflow, supervised and oriented new.', 'employees, and ensured efficiency of work processes..', 'Supported the Vice President of Sales, Director of Sales and several Attorneys within the law school organization and assisted with projects.', 'as needed..', 'Established work priorities, supervised, motivated and evaluated the work of assigned staff..', 'Prepared reports regarding workflow management and other business operations within the office..', 'Performed timekeeping, other administrative functions and coordinated the completion of timely performance appraisals..', 'Conducted research, organized data, generated reports, prepared correspondence, documents and presentations for attorneys and senior.', 'management.. Responsible for coordination of all client meetings: developed a tracking system to ensure timely and appropriate scheduling, created.', 'meeting materials including spreadsheets, handouts and executive summaries and ensured successful follow-up on action items resulting from.', 'meetings.. .', 'Education.', '2014 College of Lake County - City , State CFTC - Computer Forensics Technician Certification Computer Forensics.', '2014 College of Lake County - City , State CFAC - Computer Forensics Analyst Certification Computer Forensics.', '2013', 'College of Lake County - City , State Certificate of Completion, Paralegal Studies Legal. .', 'Approved by the American Bar Association. .', '2008', 'Strayer University - State Bachelor of Science Computer Information Systems InfoSec. .', 'Computer Information Systems, Emphasis in InfoSec. . \\x0c', 'Computer Information Systems, Emphasis in InfoSec. .', 'Graduated Summa Cum Laude. .', 'Certificate of Completion, Cisco Studies. .', 'Encase and FTK Certification Candiate. .', '(Training for Encase and FTK Certification) â€“ 2016. .', 'Professional Affiliations. .', 'Training for Cisco; CCNA, CCNA-Security, CCNA-Voice, (Microtrain, Lombard, IL) â€“ 2012 â€“ 2013. .', \"Member, Illinois Paralegal Association ' Member, National Federation of Paralegal Association. .\", 'Member, Cook County Bar Association Member, Lake County Bar Association. .', 'Skills. .', 'Executive and Legal Support, Business Analysis, Strong Communication Skills, Business Operations, Detail oriented, Documentation and Time.', 'Management, Information Technology and Technical Support, Leadership, Legal Terminology, Managerial Experience, Meeting Organizational.', 'Skills, Advanced Problem-solving Skills, Paralegal , Performance appraisals, Personnel, Presentations, Processes, Procurement, Project.', 'Management, LR&W, Westlaw, LexisNexis. . \\x0c']\n",
    "\n",
    "\n",
    "labels = [\n",
    "    # \"JOB_TITLE\", \"PROFESSION\", \"ROLE\", \"SKILL\", \"DEGREE\", \"ADJECTIVE\",\n",
    "    # \"COMPANY\", \"INDUSTRY\", \"LOCATION\", \"COMPANY_NAME\",\n",
    "    # \"JOB_EXPERIENCE\",\"WORK_DATE\", \"EXPERIENCE_DATE\", \"JOB_TITLE_DATE\", \"DATE\",\n",
    "    # \"EDUCATION_DATE\", \"CERTIFICATION_DATE\", \"PUBLICATION_DATE\", \"CERTIFICATION\", \"QUALIFICATION\"\n",
    "    \"EXPERIENCE\", \"ROLE\", \"JOB_POSITION\", \"SKILL\", \"QUALIFICATION\", \"ACTIVITIY\", \"FUNCTION\", \"COMPANY\", \"CLIENT\", \"DATE\", \"COLLEGE\", \"COURSE\"\n",
    "]\n",
    "\n",
    "# chunk_size = 500\n",
    "# chunks = [text[i:i + chunk_size] for i in range(0, len(text), chunk_size)]\n",
    "# entities = []\n",
    "\n",
    "# for chunk in chunks:\n",
    "#     entities.extend(model.predict_entities(chunk, labels, threshold=0.5))\n",
    "\n",
    "count = 0\n",
    "experience = []\n",
    "for i in text:\n",
    "    count += 1\n",
    "    entities = model.predict_entities(i, labels, threshold=0.5)\n",
    "    print(f\"========== SENTENCE {count} ==========\")\n",
    "    print(i)\n",
    "    temp = []\n",
    "    experience.append(i)\n",
    "    for entity in entities:\n",
    "        temp.append(entity[\"label\"])\n",
    "        print(entity[\"text\"], \"=>\", entity[\"label\"])\n",
    "        if \"JOB_POSITION\" and \"DATE\" in temp:\n",
    "            # experience.append(i)\n",
    "            # experience.append(temp)\n",
    "            print(temp)\n",
    "    \n",
    "print(f\"========== RESULTS ==========\")\n",
    "\n",
    "# print(experience)\n",
    "\n",
    "# entities = model.predict_entities(text, labels, threshold=0.5)\n",
    "\n",
    "# for entity in entities:\n",
    "#     print(entity[\"text\"], \"=>\", entity[\"label\"])\n",
    "\n"
   ]
  },
  {
   "cell_type": "code",
   "execution_count": null,
   "metadata": {},
   "outputs": [],
   "source": []
  }
 ],
 "metadata": {
  "kernelspec": {
   "display_name": ".venv",
   "language": "python",
   "name": "python3"
  },
  "language_info": {
   "codemirror_mode": {
    "name": "ipython",
    "version": 3
   },
   "file_extension": ".py",
   "mimetype": "text/x-python",
   "name": "python",
   "nbconvert_exporter": "python",
   "pygments_lexer": "ipython3",
   "version": "3.10.12"
  }
 },
 "nbformat": 4,
 "nbformat_minor": 2
}
